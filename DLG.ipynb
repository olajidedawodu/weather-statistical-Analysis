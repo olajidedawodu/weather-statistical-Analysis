{
 "cells": [
  {
   "cell_type": "code",
   "execution_count": 1,
   "metadata": {},
   "outputs": [
    {
     "name": "stdout",
     "output_type": "stream",
     "text": [
      "Note: you may need to restart the kernel to use updated packages.\n"
     ]
    }
   ],
   "source": [
    "pip install -q findspark"
   ]
  },
  {
   "cell_type": "code",
   "execution_count": 2,
   "metadata": {},
   "outputs": [],
   "source": [
    "import findspark\n",
    "findspark.init('/home/bigdata/Documents/spark-3.0.0')"
   ]
  },
  {
   "cell_type": "code",
   "execution_count": 3,
   "metadata": {},
   "outputs": [],
   "source": [
    "#Library\n",
    "\n",
    "import pandas as pd\n",
    "import numpy as np\n",
    "from pyspark.sql.session import SparkSession\n",
    "import matplotlib.pyplot as plt\n",
    "from pyspark import SparkContext\n",
    "from pyspark import SparkConf\n",
    "from pyspark.sql import SQLContext\n",
    "from pyspark.sql.functions import*\n",
    "from math import sqrt\n",
    "import os\n",
    "from pyspark.sql.types import IntegerType\n",
    "from pyspark.sql.types import TimestampType\n",
    "from pyspark.sql.functions import col, column, expr, when, lit\n",
    "from pyspark.sql.functions import mean, min, max, sum, round, count, datediff, to_date\n",
    "from pyspark.sql.types import StringType\n",
    "from pyspark.sql.types import DoubleType\n",
    "from pyspark.sql.functions import to_timestamp\n",
    "from pyspark.sql.types import FloatType\n",
    "from pyspark.sql import functions as F \n",
    "from pyspark.sql.functions import *"
   ]
  },
  {
   "cell_type": "code",
   "execution_count": 4,
   "metadata": {},
   "outputs": [],
   "source": [
    "spark = SparkSession.builder.appName('DLG').getOrCreate()"
   ]
  },
  {
   "cell_type": "code",
   "execution_count": 5,
   "metadata": {},
   "outputs": [],
   "source": [
    "data = spark.read.format(\"csv\").option(\"header\",\"True\").load(\"/home/bigdata/Data Engineer Test/weather.20160301.csv\")"
   ]
  },
  {
   "cell_type": "code",
   "execution_count": 6,
   "metadata": {},
   "outputs": [
    {
     "name": "stdout",
     "output_type": "stream",
     "text": [
      "+----------------+---------------+-------------------+-------------+---------+--------+----------+-----------------+--------+----------------------+--------------------+--------+---------+--------------------+--------+\n",
      "|ForecastSiteCode|ObservationTime|    ObservationDate|WindDirection|WindSpeed|WindGust|Visibility|ScreenTemperature|Pressure|SignificantWeatherCode|            SiteName|Latitude|Longitude|              Region| Country|\n",
      "+----------------+---------------+-------------------+-------------+---------+--------+----------+-----------------+--------+----------------------+--------------------+--------+---------+--------------------+--------+\n",
      "|            3002|              0|2016-03-01T00:00:00|            8|       23|      30|     16000|           -99.00|    null|                     8|   BALTASOUND (3002)| 60.7490|  -0.8540|   Orkney & Shetland|SCOTLAND|\n",
      "|            3005|              0|2016-03-01T00:00:00|            8|       26|      34|      5000|             4.90|    1004|                    12|LERWICK (S. SCREE...| 60.1390|  -1.1830|   Orkney & Shetland|SCOTLAND|\n",
      "|            3008|              0|2016-03-01T00:00:00|            7|       30|      40|      5000|             5.10|    1003|                    11|    FAIR ISLE (3008)| 59.5300|  -1.6300|   Orkney & Shetland|    null|\n",
      "|            3017|              0|2016-03-01T00:00:00|            7|       21|      29|      5000|             5.10|    1001|                    15|     KIRKWALL (3017)| 58.9540|  -2.9000|   Orkney & Shetland|SCOTLAND|\n",
      "|            3023|              0|2016-03-01T00:00:00|           10|       25|      34|      2400|             8.60|     994|                    12|SOUTH UIST RANGE ...| 57.3580|  -7.3970|Highland & Eilean...|SCOTLAND|\n",
      "|            3026|              0|2016-03-01T00:00:00|            6|       15|    null|      3800|             7.20|     995|                    15|    STORNOWAY (3026)| 58.2140|  -6.3250|Highland & Eilean...|SCOTLAND|\n",
      "|            3031|              0|2016-03-01T00:00:00|            4|        9|    null|      6000|             2.60|     999|                    15|LOCH GLACARNOCH S...| 57.7250|  -4.8960|Highland & Eilean...|SCOTLAND|\n",
      "|            3034|              0|2016-03-01T00:00:00|            8|       14|      26|      9000|             8.10|     996|                    15|      AULTBEA (3034)| 57.8590|  -5.6360|Highland & Eilean...|SCOTLAND|\n",
      "|            3037|              0|2016-03-01T00:00:00|            8|       23|      37|      2100|             8.30|     997|                    15|SKYE/LUSA (SAMOS)...| 57.2570|  -5.8090|Highland & Eilean...|SCOTLAND|\n",
      "|            3039|              0|2016-03-01T00:00:00|            8|       45|      57|      null|             3.60|    null|                   -99|BEALACH NA BA (3039)| 57.4200|  -5.6900|Highland & Eilean...|    null|\n",
      "|            3041|              0|2016-03-01T00:00:00|           16|      -99|    null|      null|             0.00|    null|                   -99|   AONACH MOR (3041)| 56.8200|  -4.9700|Highland & Eilean...|    null|\n",
      "|            3044|              0|2016-03-01T00:00:00|            5|       10|    null|     16000|             5.30|     998|                    15|ALTNAHARRA SAWS (...| 58.2880|  -4.4420|Highland & Eilean...|SCOTLAND|\n",
      "|            3047|              0|2016-03-01T00:00:00|            8|       17|      30|      8000|             4.90|    1002|                    15|TULLOCH BRIDGE (3...| 56.8670|  -4.7080|Highland & Eilean...|SCOTLAND|\n",
      "|            3062|              0|2016-03-01T00:00:00|            6|       13|    null|     30000|             5.10|    1000|                    12|   TAIN RANGE (3062)| 57.8200|  -3.9700|Highland & Eilean...|    null|\n",
      "|            3063|              0|2016-03-01T00:00:00|            9|       14|      34|     23000|             4.60|    1001|                    12|     AVIEMORE (3063)| 57.2060|  -3.8270|Highland & Eilean...|SCOTLAND|\n",
      "|            3075|              0|2016-03-01T00:00:00|           16|        0|    null|      8000|             5.10|    1001|                    15| WICK AIRPORT (3075)| 58.4540|  -3.0890|Highland & Eilean...|SCOTLAND|\n",
      "|            3065|              0|2016-03-01T00:00:00|            9|       40|      52|      null|            -2.00|    null|                   -99|CAIRNGORM SUMMIT ...| 57.1200|  -3.6400|            Grampian|    null|\n",
      "|            3066|              0|2016-03-01T00:00:00|            7|        5|    null|     22000|             5.60|    1001|                    15|      KINLOSS (3066)| 57.6494|  -3.5606|            Grampian|SCOTLAND|\n",
      "|            3068|              0|2016-03-01T00:00:00|            7|        8|    null|      7000|             5.10|    1001|                    15|  LOSSIEMOUTH (3068)| 57.7120|  -3.3220|            Grampian|SCOTLAND|\n",
      "|            3080|              0|2016-03-01T00:00:00|            9|        8|    null|     45000|             3.40|    1005|                     8|       ABOYNE (3080)| 57.0770|  -2.8360|            Grampian|SCOTLAND|\n",
      "+----------------+---------------+-------------------+-------------+---------+--------+----------+-----------------+--------+----------------------+--------------------+--------+---------+--------------------+--------+\n",
      "only showing top 20 rows\n",
      "\n"
     ]
    }
   ],
   "source": [
    "data.show()"
   ]
  },
  {
   "cell_type": "code",
   "execution_count": 7,
   "metadata": {},
   "outputs": [],
   "source": [
    "#read second weather dataset\n",
    "data2 = spark.read.format(\"csv\").option(\"header\",\"True\").load(\"/home/bigdata/Data Engineer Test/weather.20160201.csv\")"
   ]
  },
  {
   "cell_type": "code",
   "execution_count": 8,
   "metadata": {},
   "outputs": [
    {
     "name": "stdout",
     "output_type": "stream",
     "text": [
      "+----------------+---------------+-------------------+-------------+---------+--------+----------+-----------------+--------+----------------------+--------------------+--------+---------+--------------------+--------+\n",
      "|ForecastSiteCode|ObservationTime|    ObservationDate|WindDirection|WindSpeed|WindGust|Visibility|ScreenTemperature|Pressure|SignificantWeatherCode|            SiteName|Latitude|Longitude|              Region| Country|\n",
      "+----------------+---------------+-------------------+-------------+---------+--------+----------+-----------------+--------+----------------------+--------------------+--------+---------+--------------------+--------+\n",
      "|            3002|              0|2016-02-01T00:00:00|           12|        8|    null|     30000|             2.10|     997|                     8|   BALTASOUND (3002)| 60.7490|  -0.8540|   Orkney & Shetland|SCOTLAND|\n",
      "|            3005|              0|2016-02-01T00:00:00|           10|        2|    null|     35000|             0.10|     997|                     7|LERWICK (S. SCREE...| 60.1390|  -1.1830|   Orkney & Shetland|SCOTLAND|\n",
      "|            3008|              0|2016-02-01T00:00:00|            8|        6|    null|     50000|             2.80|     997|                   -99|    FAIR ISLE (3008)| 59.5300|  -1.6300|   Orkney & Shetland|    null|\n",
      "|            3017|              0|2016-02-01T00:00:00|            6|        8|    null|     40000|             1.60|     996|                     8|     KIRKWALL (3017)| 58.9540|  -2.9000|   Orkney & Shetland|SCOTLAND|\n",
      "|            3023|              0|2016-02-01T00:00:00|           10|       30|      37|      2600|             9.80|     991|                    11|SOUTH UIST RANGE ...| 57.3580|  -7.3970|Highland & Eilean...|SCOTLAND|\n",
      "|            3026|              0|2016-02-01T00:00:00|            5|       15|    null|      3900|             4.30|     991|                    12|    STORNOWAY (3026)| 58.2140|  -6.3250|Highland & Eilean...|SCOTLAND|\n",
      "|            3031|              0|2016-02-01T00:00:00|            4|        9|    null|      5000|             1.10|     995|                    11|LOCH GLACARNOCH S...| 57.7250|  -4.8960|Highland & Eilean...|SCOTLAND|\n",
      "|            3034|              0|2016-02-01T00:00:00|            5|        7|    null|      5000|             3.10|     992|                    11|      AULTBEA (3034)| 57.8590|  -5.6360|Highland & Eilean...|SCOTLAND|\n",
      "|            3037|              0|2016-02-01T00:00:00|            8|       15|    null|      3400|             8.60|     993|                    15|SKYE/LUSA (SAMOS)...| 57.2570|  -5.8090|Highland & Eilean...|SCOTLAND|\n",
      "|            3039|              0|2016-02-01T00:00:00|            9|       32|      43|      null|             3.90|    null|                   -99|BEALACH NA BA (3039)| 57.4200|  -5.6900|Highland & Eilean...|    null|\n",
      "|            3041|              0|2016-02-01T00:00:00|           10|       44|      82|      null|             3.90|    null|                   -99|   AONACH MOR (3041)| 56.8200|  -4.9700|Highland & Eilean...|    null|\n",
      "|            3044|              0|2016-02-01T00:00:00|           12|        6|    null|     40000|             1.30|     994|                     8|ALTNAHARRA SAWS (...| 58.2880|  -4.4420|Highland & Eilean...|SCOTLAND|\n",
      "|            3047|              0|2016-02-01T00:00:00|            9|       15|    null|     10000|             4.80|     997|                    15|TULLOCH BRIDGE (3...| 56.8670|  -4.7080|Highland & Eilean...|SCOTLAND|\n",
      "|            3062|              0|2016-02-01T00:00:00|            6|        6|    null|      5000|             2.40|     995|                     9|   TAIN RANGE (3062)| 57.8200|  -3.9700|Highland & Eilean...|    null|\n",
      "|            3063|              0|2016-02-01T00:00:00|            9|        9|      22|     22000|             2.70|     996|                     9|     AVIEMORE (3063)| 57.2060|  -3.8270|Highland & Eilean...|SCOTLAND|\n",
      "|            3075|              0|2016-02-01T00:00:00|            7|       10|    null|     27000|             4.20|     996|                     8| WICK AIRPORT (3075)| 58.4540|  -3.0890|Highland & Eilean...|SCOTLAND|\n",
      "|            3066|              0|2016-02-01T00:00:00|            4|        5|    null|     12000|             2.80|     995|                    12|      KINLOSS (3066)| 57.6494|  -3.5606|            Grampian|SCOTLAND|\n",
      "|            3068|              0|2016-02-01T00:00:00|            6|        8|    null|     23000|             2.50|     996|                     8|  LOSSIEMOUTH (3068)| 57.7120|  -3.3220|            Grampian|SCOTLAND|\n",
      "|            3080|              0|2016-02-01T00:00:00|           12|        2|    null|     16000|             0.80|     998|                     7|       ABOYNE (3080)| 57.0770|  -2.8360|            Grampian|SCOTLAND|\n",
      "|            3088|              0|2016-02-01T00:00:00|            8|       17|    null|       400|             4.30|     998|                     6|  INVERBERVIE (3088)| 56.8500|  -2.2700|            Grampian|    null|\n",
      "+----------------+---------------+-------------------+-------------+---------+--------+----------+-----------------+--------+----------------------+--------------------+--------+---------+--------------------+--------+\n",
      "only showing top 20 rows\n",
      "\n"
     ]
    }
   ],
   "source": [
    "data2.show()"
   ]
  },
  {
   "cell_type": "code",
   "execution_count": 9,
   "metadata": {},
   "outputs": [
    {
     "name": "stdout",
     "output_type": "stream",
     "text": [
      "root\n",
      " |-- ForecastSiteCode: string (nullable = true)\n",
      " |-- ObservationTime: string (nullable = true)\n",
      " |-- ObservationDate: string (nullable = true)\n",
      " |-- WindDirection: string (nullable = true)\n",
      " |-- WindSpeed: string (nullable = true)\n",
      " |-- WindGust: string (nullable = true)\n",
      " |-- Visibility: string (nullable = true)\n",
      " |-- ScreenTemperature: string (nullable = true)\n",
      " |-- Pressure: string (nullable = true)\n",
      " |-- SignificantWeatherCode: string (nullable = true)\n",
      " |-- SiteName: string (nullable = true)\n",
      " |-- Latitude: string (nullable = true)\n",
      " |-- Longitude: string (nullable = true)\n",
      " |-- Region: string (nullable = true)\n",
      " |-- Country: string (nullable = true)\n",
      "\n"
     ]
    }
   ],
   "source": [
    "data.printSchema()"
   ]
  },
  {
   "cell_type": "code",
   "execution_count": 10,
   "metadata": {},
   "outputs": [
    {
     "data": {
      "text/plain": [
       "101442"
      ]
     },
     "execution_count": 10,
     "metadata": {},
     "output_type": "execute_result"
    }
   ],
   "source": [
    "data.count()"
   ]
  },
  {
   "cell_type": "code",
   "execution_count": 11,
   "metadata": {},
   "outputs": [
    {
     "name": "stdout",
     "output_type": "stream",
     "text": [
      "root\n",
      " |-- ForecastSiteCode: string (nullable = true)\n",
      " |-- ObservationTime: string (nullable = true)\n",
      " |-- ObservationDate: string (nullable = true)\n",
      " |-- WindDirection: string (nullable = true)\n",
      " |-- WindSpeed: string (nullable = true)\n",
      " |-- WindGust: string (nullable = true)\n",
      " |-- Visibility: string (nullable = true)\n",
      " |-- ScreenTemperature: string (nullable = true)\n",
      " |-- Pressure: string (nullable = true)\n",
      " |-- SignificantWeatherCode: string (nullable = true)\n",
      " |-- SiteName: string (nullable = true)\n",
      " |-- Latitude: string (nullable = true)\n",
      " |-- Longitude: string (nullable = true)\n",
      " |-- Region: string (nullable = true)\n",
      " |-- Country: string (nullable = true)\n",
      "\n"
     ]
    }
   ],
   "source": [
    "#show schema of the dataset\n",
    "data2.printSchema()"
   ]
  },
  {
   "cell_type": "code",
   "execution_count": 12,
   "metadata": {},
   "outputs": [
    {
     "data": {
      "text/plain": [
       "93255"
      ]
     },
     "execution_count": 12,
     "metadata": {},
     "output_type": "execute_result"
    }
   ],
   "source": [
    "#count\n",
    "data2.count()"
   ]
  },
  {
   "cell_type": "code",
   "execution_count": 13,
   "metadata": {},
   "outputs": [],
   "source": [
    "# merging two wether data together with no effect on all dataset\n",
    "data_df = data.unionAll(data2)"
   ]
  },
  {
   "cell_type": "code",
   "execution_count": 14,
   "metadata": {},
   "outputs": [
    {
     "data": {
      "text/plain": [
       "194697"
      ]
     },
     "execution_count": 14,
     "metadata": {},
     "output_type": "execute_result"
    }
   ],
   "source": [
    "#count\n",
    "data_df.count()"
   ]
  },
  {
   "cell_type": "code",
   "execution_count": 15,
   "metadata": {
    "scrolled": true
   },
   "outputs": [],
   "source": [
    "#convert and save merged csv file to parquet file format\n",
    "data_df.write.parquet(\"/home/bigdata/parquet/dataset.parquet\")"
   ]
  },
  {
   "cell_type": "code",
   "execution_count": 16,
   "metadata": {},
   "outputs": [],
   "source": [
    "#read dataset.parquet file\n",
    "df =spark.read.format(\"parquet\").option(\"header\",\"True\").load(\"/home/bigdata/parquet/dataset.parquet\")"
   ]
  },
  {
   "cell_type": "code",
   "execution_count": 17,
   "metadata": {},
   "outputs": [
    {
     "name": "stdout",
     "output_type": "stream",
     "text": [
      "+----------------+---------------+-------------------+-------------+---------+--------+----------+-----------------+--------+----------------------+--------------------+--------+---------+--------------------+--------+\n",
      "|ForecastSiteCode|ObservationTime|    ObservationDate|WindDirection|WindSpeed|WindGust|Visibility|ScreenTemperature|Pressure|SignificantWeatherCode|            SiteName|Latitude|Longitude|              Region| Country|\n",
      "+----------------+---------------+-------------------+-------------+---------+--------+----------+-----------------+--------+----------------------+--------------------+--------+---------+--------------------+--------+\n",
      "|            3002|              0|2016-02-01T00:00:00|           12|        8|    null|     30000|             2.10|     997|                     8|   BALTASOUND (3002)| 60.7490|  -0.8540|   Orkney & Shetland|SCOTLAND|\n",
      "|            3005|              0|2016-02-01T00:00:00|           10|        2|    null|     35000|             0.10|     997|                     7|LERWICK (S. SCREE...| 60.1390|  -1.1830|   Orkney & Shetland|SCOTLAND|\n",
      "|            3008|              0|2016-02-01T00:00:00|            8|        6|    null|     50000|             2.80|     997|                   -99|    FAIR ISLE (3008)| 59.5300|  -1.6300|   Orkney & Shetland|    null|\n",
      "|            3017|              0|2016-02-01T00:00:00|            6|        8|    null|     40000|             1.60|     996|                     8|     KIRKWALL (3017)| 58.9540|  -2.9000|   Orkney & Shetland|SCOTLAND|\n",
      "|            3023|              0|2016-02-01T00:00:00|           10|       30|      37|      2600|             9.80|     991|                    11|SOUTH UIST RANGE ...| 57.3580|  -7.3970|Highland & Eilean...|SCOTLAND|\n",
      "|            3026|              0|2016-02-01T00:00:00|            5|       15|    null|      3900|             4.30|     991|                    12|    STORNOWAY (3026)| 58.2140|  -6.3250|Highland & Eilean...|SCOTLAND|\n",
      "|            3031|              0|2016-02-01T00:00:00|            4|        9|    null|      5000|             1.10|     995|                    11|LOCH GLACARNOCH S...| 57.7250|  -4.8960|Highland & Eilean...|SCOTLAND|\n",
      "|            3034|              0|2016-02-01T00:00:00|            5|        7|    null|      5000|             3.10|     992|                    11|      AULTBEA (3034)| 57.8590|  -5.6360|Highland & Eilean...|SCOTLAND|\n",
      "|            3037|              0|2016-02-01T00:00:00|            8|       15|    null|      3400|             8.60|     993|                    15|SKYE/LUSA (SAMOS)...| 57.2570|  -5.8090|Highland & Eilean...|SCOTLAND|\n",
      "|            3039|              0|2016-02-01T00:00:00|            9|       32|      43|      null|             3.90|    null|                   -99|BEALACH NA BA (3039)| 57.4200|  -5.6900|Highland & Eilean...|    null|\n",
      "|            3041|              0|2016-02-01T00:00:00|           10|       44|      82|      null|             3.90|    null|                   -99|   AONACH MOR (3041)| 56.8200|  -4.9700|Highland & Eilean...|    null|\n",
      "|            3044|              0|2016-02-01T00:00:00|           12|        6|    null|     40000|             1.30|     994|                     8|ALTNAHARRA SAWS (...| 58.2880|  -4.4420|Highland & Eilean...|SCOTLAND|\n",
      "|            3047|              0|2016-02-01T00:00:00|            9|       15|    null|     10000|             4.80|     997|                    15|TULLOCH BRIDGE (3...| 56.8670|  -4.7080|Highland & Eilean...|SCOTLAND|\n",
      "|            3062|              0|2016-02-01T00:00:00|            6|        6|    null|      5000|             2.40|     995|                     9|   TAIN RANGE (3062)| 57.8200|  -3.9700|Highland & Eilean...|    null|\n",
      "|            3063|              0|2016-02-01T00:00:00|            9|        9|      22|     22000|             2.70|     996|                     9|     AVIEMORE (3063)| 57.2060|  -3.8270|Highland & Eilean...|SCOTLAND|\n",
      "|            3075|              0|2016-02-01T00:00:00|            7|       10|    null|     27000|             4.20|     996|                     8| WICK AIRPORT (3075)| 58.4540|  -3.0890|Highland & Eilean...|SCOTLAND|\n",
      "|            3066|              0|2016-02-01T00:00:00|            4|        5|    null|     12000|             2.80|     995|                    12|      KINLOSS (3066)| 57.6494|  -3.5606|            Grampian|SCOTLAND|\n",
      "|            3068|              0|2016-02-01T00:00:00|            6|        8|    null|     23000|             2.50|     996|                     8|  LOSSIEMOUTH (3068)| 57.7120|  -3.3220|            Grampian|SCOTLAND|\n",
      "|            3080|              0|2016-02-01T00:00:00|           12|        2|    null|     16000|             0.80|     998|                     7|       ABOYNE (3080)| 57.0770|  -2.8360|            Grampian|SCOTLAND|\n",
      "|            3088|              0|2016-02-01T00:00:00|            8|       17|    null|       400|             4.30|     998|                     6|  INVERBERVIE (3088)| 56.8500|  -2.2700|            Grampian|    null|\n",
      "+----------------+---------------+-------------------+-------------+---------+--------+----------+-----------------+--------+----------------------+--------------------+--------+---------+--------------------+--------+\n",
      "only showing top 20 rows\n",
      "\n"
     ]
    }
   ],
   "source": [
    "df.show()"
   ]
  },
  {
   "cell_type": "code",
   "execution_count": 18,
   "metadata": {},
   "outputs": [
    {
     "name": "stdout",
     "output_type": "stream",
     "text": [
      "root\n",
      " |-- ForecastSiteCode: string (nullable = true)\n",
      " |-- ObservationTime: string (nullable = true)\n",
      " |-- ObservationDate: string (nullable = true)\n",
      " |-- WindDirection: string (nullable = true)\n",
      " |-- WindSpeed: string (nullable = true)\n",
      " |-- WindGust: string (nullable = true)\n",
      " |-- Visibility: string (nullable = true)\n",
      " |-- ScreenTemperature: string (nullable = true)\n",
      " |-- Pressure: string (nullable = true)\n",
      " |-- SignificantWeatherCode: string (nullable = true)\n",
      " |-- SiteName: string (nullable = true)\n",
      " |-- Latitude: string (nullable = true)\n",
      " |-- Longitude: string (nullable = true)\n",
      " |-- Region: string (nullable = true)\n",
      " |-- Country: string (nullable = true)\n",
      "\n"
     ]
    }
   ],
   "source": [
    "#print schema\n",
    "df.printSchema()"
   ]
  },
  {
   "cell_type": "code",
   "execution_count": 19,
   "metadata": {},
   "outputs": [],
   "source": [
    "#converted ObservationTime from string to Float\n",
    "df= df.withColumn(\"ObservationTime\", df[\"ObservationTime\"].cast(\"timestamp\"))"
   ]
  },
  {
   "cell_type": "code",
   "execution_count": 20,
   "metadata": {},
   "outputs": [],
   "source": [
    "from pyspark.sql.functions import unix_timestamp, from_unixtime\n",
    "import numpy as np\n",
    "import datetime\n",
    "from pyspark.sql.functions import year, month, dayofmonth"
   ]
  },
  {
   "cell_type": "code",
   "execution_count": 21,
   "metadata": {},
   "outputs": [],
   "source": [
    "#removing T from ObservationDate\n",
    "df = df.withColumn('ObservationDate', regexp_replace(col('ObservationDate'), \"T\", \" \"))"
   ]
  },
  {
   "cell_type": "code",
   "execution_count": 22,
   "metadata": {},
   "outputs": [],
   "source": [
    "df =df.withColumn(\"ObservationDate\", df[\"ObservationDate\"].cast(\"timestamp\"))"
   ]
  },
  {
   "cell_type": "code",
   "execution_count": 23,
   "metadata": {},
   "outputs": [
    {
     "name": "stdout",
     "output_type": "stream",
     "text": [
      "+-------------------+\n",
      "|    ObservationDate|\n",
      "+-------------------+\n",
      "|2016-02-01 00:00:00|\n",
      "|2016-02-01 00:00:00|\n",
      "|2016-02-01 00:00:00|\n",
      "|2016-02-01 00:00:00|\n",
      "|2016-02-01 00:00:00|\n",
      "|2016-02-01 00:00:00|\n",
      "|2016-02-01 00:00:00|\n",
      "|2016-02-01 00:00:00|\n",
      "|2016-02-01 00:00:00|\n",
      "|2016-02-01 00:00:00|\n",
      "|2016-02-01 00:00:00|\n",
      "|2016-02-01 00:00:00|\n",
      "|2016-02-01 00:00:00|\n",
      "|2016-02-01 00:00:00|\n",
      "|2016-02-01 00:00:00|\n",
      "|2016-02-01 00:00:00|\n",
      "|2016-02-01 00:00:00|\n",
      "|2016-02-01 00:00:00|\n",
      "|2016-02-01 00:00:00|\n",
      "|2016-02-01 00:00:00|\n",
      "+-------------------+\n",
      "only showing top 20 rows\n",
      "\n"
     ]
    }
   ],
   "source": [
    "#day (yyyy-mm-dd HH:mm:ss)\n",
    "df.select(\"ObservationDate\").show()"
   ]
  },
  {
   "cell_type": "code",
   "execution_count": 24,
   "metadata": {},
   "outputs": [],
   "source": [
    "#WindDirection converted from string to float\n",
    "df= df.withColumn(\"WindDirection\", df[\"WindDirection\"].cast(FloatType()))"
   ]
  },
  {
   "cell_type": "code",
   "execution_count": 25,
   "metadata": {},
   "outputs": [],
   "source": [
    "#WindSpeed converted from string to integer\n",
    "df= df.withColumn(\"WindSpeed\", df[\"WindSpeed\"].cast(IntegerType()))"
   ]
  },
  {
   "cell_type": "code",
   "execution_count": 26,
   "metadata": {},
   "outputs": [],
   "source": [
    "#visibilty converted from from to integer\n",
    "df= df.withColumn(\"Visibility\", df[\"Visibility\"].cast(IntegerType()))"
   ]
  },
  {
   "cell_type": "code",
   "execution_count": 27,
   "metadata": {},
   "outputs": [],
   "source": [
    "#ScreenTemperature converted from string to float\n",
    "df= df.withColumn(\"ScreenTemperature\", df[\"ScreenTemperature\"].cast(FloatType()))"
   ]
  },
  {
   "cell_type": "code",
   "execution_count": 28,
   "metadata": {},
   "outputs": [],
   "source": [
    "#Pressure converted from string to integer\n",
    "df= df.withColumn(\"Pressure\", df[\"Pressure\"].cast(IntegerType()))"
   ]
  },
  {
   "cell_type": "code",
   "execution_count": 29,
   "metadata": {},
   "outputs": [],
   "source": [
    "#Latitude converted from string to Float\n",
    "df= df.withColumn(\"Latitude\", df[\"Latitude\"].cast(FloatType()))"
   ]
  },
  {
   "cell_type": "code",
   "execution_count": 30,
   "metadata": {},
   "outputs": [],
   "source": [
    "#Longitude converted from string to Float\n",
    "df= df.withColumn(\"Longitude\", df[\"Longitude\"].cast(FloatType()))"
   ]
  },
  {
   "cell_type": "code",
   "execution_count": 31,
   "metadata": {},
   "outputs": [
    {
     "name": "stdout",
     "output_type": "stream",
     "text": [
      "root\n",
      " |-- ForecastSiteCode: string (nullable = true)\n",
      " |-- ObservationTime: timestamp (nullable = true)\n",
      " |-- ObservationDate: timestamp (nullable = true)\n",
      " |-- WindDirection: float (nullable = true)\n",
      " |-- WindSpeed: integer (nullable = true)\n",
      " |-- WindGust: string (nullable = true)\n",
      " |-- Visibility: integer (nullable = true)\n",
      " |-- ScreenTemperature: float (nullable = true)\n",
      " |-- Pressure: integer (nullable = true)\n",
      " |-- SignificantWeatherCode: string (nullable = true)\n",
      " |-- SiteName: string (nullable = true)\n",
      " |-- Latitude: float (nullable = true)\n",
      " |-- Longitude: float (nullable = true)\n",
      " |-- Region: string (nullable = true)\n",
      " |-- Country: string (nullable = true)\n",
      "\n"
     ]
    }
   ],
   "source": [
    "#print schema after converting datatype\n",
    "df.printSchema()"
   ]
  },
  {
   "cell_type": "code",
   "execution_count": 32,
   "metadata": {},
   "outputs": [],
   "source": [
    "#fill missing value integer with zero --no effect on result\n",
    "df =df.na.fill(0)"
   ]
  },
  {
   "cell_type": "code",
   "execution_count": 33,
   "metadata": {},
   "outputs": [
    {
     "name": "stdout",
     "output_type": "stream",
     "text": [
      "+----------------+---------------+-------------------+-------------+---------+--------+----------+-----------------+--------+----------------------+--------------------+--------+---------+--------------------+--------+\n",
      "|ForecastSiteCode|ObservationTime|    ObservationDate|WindDirection|WindSpeed|WindGust|Visibility|ScreenTemperature|Pressure|SignificantWeatherCode|            SiteName|Latitude|Longitude|              Region| Country|\n",
      "+----------------+---------------+-------------------+-------------+---------+--------+----------+-----------------+--------+----------------------+--------------------+--------+---------+--------------------+--------+\n",
      "|            3002|           null|2016-02-01 00:00:00|         12.0|        8|    null|     30000|              2.1|     997|                     8|   BALTASOUND (3002)|  60.749|   -0.854|   Orkney & Shetland|SCOTLAND|\n",
      "|            3005|           null|2016-02-01 00:00:00|         10.0|        2|    null|     35000|              0.1|     997|                     7|LERWICK (S. SCREE...|  60.139|   -1.183|   Orkney & Shetland|SCOTLAND|\n",
      "|            3008|           null|2016-02-01 00:00:00|          8.0|        6|    null|     50000|              2.8|     997|                   -99|    FAIR ISLE (3008)|   59.53|    -1.63|   Orkney & Shetland|    null|\n",
      "|            3017|           null|2016-02-01 00:00:00|          6.0|        8|    null|     40000|              1.6|     996|                     8|     KIRKWALL (3017)|  58.954|     -2.9|   Orkney & Shetland|SCOTLAND|\n",
      "|            3023|           null|2016-02-01 00:00:00|         10.0|       30|      37|      2600|              9.8|     991|                    11|SOUTH UIST RANGE ...|  57.358|   -7.397|Highland & Eilean...|SCOTLAND|\n",
      "|            3026|           null|2016-02-01 00:00:00|          5.0|       15|    null|      3900|              4.3|     991|                    12|    STORNOWAY (3026)|  58.214|   -6.325|Highland & Eilean...|SCOTLAND|\n",
      "|            3031|           null|2016-02-01 00:00:00|          4.0|        9|    null|      5000|              1.1|     995|                    11|LOCH GLACARNOCH S...|  57.725|   -4.896|Highland & Eilean...|SCOTLAND|\n",
      "|            3034|           null|2016-02-01 00:00:00|          5.0|        7|    null|      5000|              3.1|     992|                    11|      AULTBEA (3034)|  57.859|   -5.636|Highland & Eilean...|SCOTLAND|\n",
      "|            3037|           null|2016-02-01 00:00:00|          8.0|       15|    null|      3400|              8.6|     993|                    15|SKYE/LUSA (SAMOS)...|  57.257|   -5.809|Highland & Eilean...|SCOTLAND|\n",
      "|            3039|           null|2016-02-01 00:00:00|          9.0|       32|      43|         0|              3.9|       0|                   -99|BEALACH NA BA (3039)|   57.42|    -5.69|Highland & Eilean...|    null|\n",
      "|            3041|           null|2016-02-01 00:00:00|         10.0|       44|      82|         0|              3.9|       0|                   -99|   AONACH MOR (3041)|   56.82|    -4.97|Highland & Eilean...|    null|\n",
      "|            3044|           null|2016-02-01 00:00:00|         12.0|        6|    null|     40000|              1.3|     994|                     8|ALTNAHARRA SAWS (...|  58.288|   -4.442|Highland & Eilean...|SCOTLAND|\n",
      "|            3047|           null|2016-02-01 00:00:00|          9.0|       15|    null|     10000|              4.8|     997|                    15|TULLOCH BRIDGE (3...|  56.867|   -4.708|Highland & Eilean...|SCOTLAND|\n",
      "|            3062|           null|2016-02-01 00:00:00|          6.0|        6|    null|      5000|              2.4|     995|                     9|   TAIN RANGE (3062)|   57.82|    -3.97|Highland & Eilean...|    null|\n",
      "|            3063|           null|2016-02-01 00:00:00|          9.0|        9|      22|     22000|              2.7|     996|                     9|     AVIEMORE (3063)|  57.206|   -3.827|Highland & Eilean...|SCOTLAND|\n",
      "|            3075|           null|2016-02-01 00:00:00|          7.0|       10|    null|     27000|              4.2|     996|                     8| WICK AIRPORT (3075)|  58.454|   -3.089|Highland & Eilean...|SCOTLAND|\n",
      "|            3066|           null|2016-02-01 00:00:00|          4.0|        5|    null|     12000|              2.8|     995|                    12|      KINLOSS (3066)| 57.6494|  -3.5606|            Grampian|SCOTLAND|\n",
      "|            3068|           null|2016-02-01 00:00:00|          6.0|        8|    null|     23000|              2.5|     996|                     8|  LOSSIEMOUTH (3068)|  57.712|   -3.322|            Grampian|SCOTLAND|\n",
      "|            3080|           null|2016-02-01 00:00:00|         12.0|        2|    null|     16000|              0.8|     998|                     7|       ABOYNE (3080)|  57.077|   -2.836|            Grampian|SCOTLAND|\n",
      "|            3088|           null|2016-02-01 00:00:00|          8.0|       17|    null|       400|              4.3|     998|                     6|  INVERBERVIE (3088)|   56.85|    -2.27|            Grampian|    null|\n",
      "+----------------+---------------+-------------------+-------------+---------+--------+----------+-----------------+--------+----------------------+--------------------+--------+---------+--------------------+--------+\n",
      "only showing top 20 rows\n",
      "\n"
     ]
    }
   ],
   "source": [
    "#show df dataset\n",
    "df.show()"
   ]
  },
  {
   "cell_type": "code",
   "execution_count": 34,
   "metadata": {},
   "outputs": [],
   "source": [
    "#create a temporary view using DataFrame\n",
    "df.createOrReplaceTempView(\"weather\")"
   ]
  },
  {
   "cell_type": "code",
   "execution_count": 35,
   "metadata": {},
   "outputs": [],
   "source": [
    "#order by Descending ScreenTemperature to observe hottest day and region\n",
    "maxtemp_df =spark.sql(\"select Region , ObservationDate, ScreenTemperature from weather order by ScreenTemperature DESC\")"
   ]
  },
  {
   "cell_type": "code",
   "execution_count": 36,
   "metadata": {},
   "outputs": [
    {
     "name": "stdout",
     "output_type": "stream",
     "text": [
      "+--------------------+-------------------+-----------------+\n",
      "|              Region|    ObservationDate|ScreenTemperature|\n",
      "+--------------------+-------------------+-----------------+\n",
      "|Highland & Eilean...|2016-03-17 00:00:00|             15.8|\n",
      "|  South West England|2016-02-21 00:00:00|             15.6|\n",
      "|Highland & Eilean...|2016-03-16 00:00:00|             15.5|\n",
      "|       West Midlands|2016-03-01 00:00:00|             15.4|\n",
      "|Highland & Eilean...|2016-03-16 00:00:00|             15.3|\n",
      "|  South West England|2016-02-21 00:00:00|             15.3|\n",
      "|Highland & Eilean...|2016-03-16 00:00:00|             15.3|\n",
      "|     East of England|2016-02-21 00:00:00|             15.2|\n",
      "|Highland & Eilean...|2016-03-17 00:00:00|             15.2|\n",
      "|       East Midlands|2016-02-21 00:00:00|             15.2|\n",
      "|  South West England|2016-02-21 00:00:00|             15.2|\n",
      "|  South West England|2016-02-21 00:00:00|             15.1|\n",
      "|  South West England|2016-02-21 00:00:00|             15.1|\n",
      "|London & South Ea...|2016-03-25 00:00:00|             15.0|\n",
      "|         Strathclyde|2016-03-14 00:00:00|             15.0|\n",
      "|         Strathclyde|2016-03-14 00:00:00|             15.0|\n",
      "|         Strathclyde|2016-03-14 00:00:00|             15.0|\n",
      "|         Strathclyde|2016-03-14 00:00:00|             15.0|\n",
      "|  South West England|2016-02-21 00:00:00|             14.9|\n",
      "|  Yorkshire & Humber|2016-02-01 00:00:00|             14.9|\n",
      "+--------------------+-------------------+-----------------+\n",
      "only showing top 20 rows\n",
      "\n"
     ]
    }
   ],
   "source": [
    "#show hottest Region, Day and Temperature\n",
    "maxtemp_df.show()"
   ]
  },
  {
   "cell_type": "code",
   "execution_count": 37,
   "metadata": {},
   "outputs": [
    {
     "name": "stdout",
     "output_type": "stream",
     "text": [
      "+--------------------+-------------------+-----------------+\n",
      "|              Region|    ObservationDate|ScreenTemperature|\n",
      "+--------------------+-------------------+-----------------+\n",
      "|Highland & Eilean...|2016-03-17 00:00:00|             15.8|\n",
      "+--------------------+-------------------+-----------------+\n",
      "only showing top 1 row\n",
      "\n"
     ]
    }
   ],
   "source": [
    "#hottest day(highest temperature), Hottest Region and Date\n",
    "maxtemp_df.show(1)"
   ]
  },
  {
   "cell_type": "code",
   "execution_count": 38,
   "metadata": {},
   "outputs": [
    {
     "name": "stdout",
     "output_type": "stream",
     "text": [
      "+-----------------+\n",
      "|ScreenTemperature|\n",
      "+-----------------+\n",
      "|             15.8|\n",
      "+-----------------+\n",
      "only showing top 1 row\n",
      "\n"
     ]
    }
   ],
   "source": [
    "#Hotest day Temperature\n",
    "maxtemp_df.select(\"ScreenTemperature\").show(1)"
   ]
  },
  {
   "cell_type": "code",
   "execution_count": 39,
   "metadata": {},
   "outputs": [
    {
     "name": "stdout",
     "output_type": "stream",
     "text": [
      "+-------------------+\n",
      "|    ObservationDate|\n",
      "+-------------------+\n",
      "|2016-03-17 00:00:00|\n",
      "+-------------------+\n",
      "only showing top 1 row\n",
      "\n"
     ]
    }
   ],
   "source": [
    "#hottest day (yyyy-mm-dd HH:mm:ss)\n",
    "maxtemp_df.select(\"ObservationDate\").show(1)"
   ]
  },
  {
   "cell_type": "code",
   "execution_count": 40,
   "metadata": {},
   "outputs": [
    {
     "name": "stdout",
     "output_type": "stream",
     "text": [
      "+--------------------+\n",
      "|              Region|\n",
      "+--------------------+\n",
      "|Highland & Eilean...|\n",
      "+--------------------+\n",
      "only showing top 1 row\n",
      "\n"
     ]
    }
   ],
   "source": [
    "#hottest Region\n",
    "maxtemp_df.select(\"Region\").show(1)"
   ]
  },
  {
   "cell_type": "code",
   "execution_count": null,
   "metadata": {},
   "outputs": [],
   "source": []
  }
 ],
 "metadata": {
  "kernelspec": {
   "display_name": "Python 3",
   "language": "python",
   "name": "python3"
  },
  "language_info": {
   "codemirror_mode": {
    "name": "ipython",
    "version": 3
   },
   "file_extension": ".py",
   "mimetype": "text/x-python",
   "name": "python",
   "nbconvert_exporter": "python",
   "pygments_lexer": "ipython3",
   "version": "3.7.4"
  }
 },
 "nbformat": 4,
 "nbformat_minor": 2
}
